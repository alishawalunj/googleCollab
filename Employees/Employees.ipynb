{
  "nbformat": 4,
  "nbformat_minor": 0,
  "metadata": {
    "colab": {
      "provenance": [],
      "toc_visible": true,
      "mount_file_id": "1Ii2_aFjwsFOqI6dLYPCRPEK072WqIDGC",
      "authorship_tag": "ABX9TyM7Dy3Xljw8LdxTsPA5ztEm",
      "include_colab_link": true
    },
    "kernelspec": {
      "name": "python3",
      "display_name": "Python 3"
    },
    "language_info": {
      "name": "python"
    }
  },
  "cells": [
    {
      "cell_type": "markdown",
      "metadata": {
        "id": "view-in-github",
        "colab_type": "text"
      },
      "source": [
        "<a href=\"https://colab.research.google.com/github/alishawalunj/googleCollab/blob/pythonBasics/Employees/Employees.ipynb\" target=\"_parent\"><img src=\"https://colab.research.google.com/assets/colab-badge.svg\" alt=\"Open In Colab\"/></a>"
      ]
    },
    {
      "cell_type": "code",
      "execution_count": 2,
      "metadata": {
        "id": "2SJgy4SZ8apy"
      },
      "outputs": [],
      "source": [
        "import pandas as pd"
      ]
    },
    {
      "cell_type": "markdown",
      "source": [
        "**Importing Dataframe**"
      ],
      "metadata": {
        "id": "eQ_ulm8mCcnW"
      }
    },
    {
      "cell_type": "code",
      "source": [
        "df = pd.read_csv(\"/content/drive/MyDrive/Datasets/Employee.csv\")"
      ],
      "metadata": {
        "id": "z6UtGBWE8lKx"
      },
      "execution_count": 3,
      "outputs": []
    },
    {
      "cell_type": "markdown",
      "source": [
        "**Display/Read the dataframe**\n",
        "\n"
      ],
      "metadata": {
        "id": "T9XEahyk9Mm0"
      }
    },
    {
      "cell_type": "code",
      "source": [
        "print(df.head())"
      ],
      "metadata": {
        "colab": {
          "base_uri": "https://localhost:8080/"
        },
        "id": "b8mMFQi09IA1",
        "outputId": "9a465a31-9246-49ab-90b7-903091b5ecea"
      },
      "execution_count": 4,
      "outputs": [
        {
          "output_type": "stream",
          "name": "stdout",
          "text": [
            "   Education  JoiningYear       City  PaymentTier  Age  Gender EverBenched  \\\n",
            "0  Bachelors         2017  Bangalore            3   34    Male          No   \n",
            "1  Bachelors         2013       Pune            1   28  Female          No   \n",
            "2  Bachelors         2014  New Delhi            3   38  Female          No   \n",
            "3    Masters         2016  Bangalore            3   27    Male          No   \n",
            "4    Masters         2017       Pune            3   24    Male         Yes   \n",
            "\n",
            "   ExperienceInCurrentDomain  LeaveOrNot  \n",
            "0                          0           0  \n",
            "1                          3           1  \n",
            "2                          2           0  \n",
            "3                          5           1  \n",
            "4                          2           1  \n"
          ]
        }
      ]
    },
    {
      "cell_type": "code",
      "source": [
        "print(\"Printing top 5 rows in data frame \\n\")\n",
        "print(df.head(5))\n",
        "print(\"\\nPrinting top 10 rows in data frame \\n\")\n",
        "print(df.head(10))"
      ],
      "metadata": {
        "colab": {
          "base_uri": "https://localhost:8080/"
        },
        "id": "c3aZalUS9RHD",
        "outputId": "36521b4b-5f56-448b-87cf-e3cba2f85d24"
      },
      "execution_count": 7,
      "outputs": [
        {
          "output_type": "stream",
          "name": "stdout",
          "text": [
            "Printing top 5 rows in data frame \n",
            "\n",
            "   Education  JoiningYear       City  PaymentTier  Age  Gender EverBenched  \\\n",
            "0  Bachelors         2017  Bangalore            3   34    Male          No   \n",
            "1  Bachelors         2013       Pune            1   28  Female          No   \n",
            "2  Bachelors         2014  New Delhi            3   38  Female          No   \n",
            "3    Masters         2016  Bangalore            3   27    Male          No   \n",
            "4    Masters         2017       Pune            3   24    Male         Yes   \n",
            "\n",
            "   ExperienceInCurrentDomain  LeaveOrNot  \n",
            "0                          0           0  \n",
            "1                          3           1  \n",
            "2                          2           0  \n",
            "3                          5           1  \n",
            "4                          2           1  \n",
            "\n",
            "Printing top 10 rows in data frame \n",
            "\n",
            "   Education  JoiningYear       City  PaymentTier  Age  Gender EverBenched  \\\n",
            "0  Bachelors         2017  Bangalore            3   34    Male          No   \n",
            "1  Bachelors         2013       Pune            1   28  Female          No   \n",
            "2  Bachelors         2014  New Delhi            3   38  Female          No   \n",
            "3    Masters         2016  Bangalore            3   27    Male          No   \n",
            "4    Masters         2017       Pune            3   24    Male         Yes   \n",
            "5  Bachelors         2016  Bangalore            3   22    Male          No   \n",
            "6  Bachelors         2015  New Delhi            3   38    Male          No   \n",
            "7  Bachelors         2016  Bangalore            3   34  Female          No   \n",
            "8  Bachelors         2016       Pune            3   23    Male          No   \n",
            "9    Masters         2017  New Delhi            2   37    Male          No   \n",
            "\n",
            "   ExperienceInCurrentDomain  LeaveOrNot  \n",
            "0                          0           0  \n",
            "1                          3           1  \n",
            "2                          2           0  \n",
            "3                          5           1  \n",
            "4                          2           1  \n",
            "5                          0           0  \n",
            "6                          0           0  \n",
            "7                          2           1  \n",
            "8                          1           0  \n",
            "9                          2           0  \n"
          ]
        }
      ]
    },
    {
      "cell_type": "code",
      "source": [
        "print(df.tail())"
      ],
      "metadata": {
        "colab": {
          "base_uri": "https://localhost:8080/"
        },
        "id": "tti1F2rw-R_l",
        "outputId": "bdd0cf3f-7933-4b6d-b4cb-4c2272e7b884"
      },
      "execution_count": 8,
      "outputs": [
        {
          "output_type": "stream",
          "name": "stdout",
          "text": [
            "      Education  JoiningYear       City  PaymentTier  Age  Gender EverBenched  \\\n",
            "4648  Bachelors         2013  Bangalore            3   26  Female          No   \n",
            "4649    Masters         2013       Pune            2   37    Male          No   \n",
            "4650    Masters         2018  New Delhi            3   27    Male          No   \n",
            "4651  Bachelors         2012  Bangalore            3   30    Male         Yes   \n",
            "4652  Bachelors         2015  Bangalore            3   33    Male         Yes   \n",
            "\n",
            "      ExperienceInCurrentDomain  LeaveOrNot  \n",
            "4648                          4           0  \n",
            "4649                          2           1  \n",
            "4650                          5           1  \n",
            "4651                          2           0  \n",
            "4652                          4           0  \n"
          ]
        }
      ]
    },
    {
      "cell_type": "code",
      "source": [
        "print(\"Printing bottom 5 rows in dataframe\\n\")\n",
        "print(df.tail(5))\n",
        "print(\"\\nPrinting bottom 10 rows in dataframe\\n\")\n",
        "print(df.tail(10))"
      ],
      "metadata": {
        "colab": {
          "base_uri": "https://localhost:8080/"
        },
        "id": "fD8HrYgW-aQp",
        "outputId": "f245c738-c3c3-4df4-9a20-12444e4a661d"
      },
      "execution_count": 9,
      "outputs": [
        {
          "output_type": "stream",
          "name": "stdout",
          "text": [
            "Printing bottom 5 rows in dataframe\n",
            "\n",
            "      Education  JoiningYear       City  PaymentTier  Age  Gender EverBenched  \\\n",
            "4648  Bachelors         2013  Bangalore            3   26  Female          No   \n",
            "4649    Masters         2013       Pune            2   37    Male          No   \n",
            "4650    Masters         2018  New Delhi            3   27    Male          No   \n",
            "4651  Bachelors         2012  Bangalore            3   30    Male         Yes   \n",
            "4652  Bachelors         2015  Bangalore            3   33    Male         Yes   \n",
            "\n",
            "      ExperienceInCurrentDomain  LeaveOrNot  \n",
            "4648                          4           0  \n",
            "4649                          2           1  \n",
            "4650                          5           1  \n",
            "4651                          2           0  \n",
            "4652                          4           0  \n",
            "\n",
            "Printing bottom 10 rows in dataframe\n",
            "\n",
            "      Education  JoiningYear       City  PaymentTier  Age  Gender EverBenched  \\\n",
            "4643  Bachelors         2013  Bangalore            3   31  Female          No   \n",
            "4644  Bachelors         2015       Pune            3   32  Female         Yes   \n",
            "4645    Masters         2017       Pune            2   31  Female          No   \n",
            "4646  Bachelors         2013  Bangalore            3   25  Female          No   \n",
            "4647  Bachelors         2016       Pune            3   30    Male          No   \n",
            "4648  Bachelors         2013  Bangalore            3   26  Female          No   \n",
            "4649    Masters         2013       Pune            2   37    Male          No   \n",
            "4650    Masters         2018  New Delhi            3   27    Male          No   \n",
            "4651  Bachelors         2012  Bangalore            3   30    Male         Yes   \n",
            "4652  Bachelors         2015  Bangalore            3   33    Male         Yes   \n",
            "\n",
            "      ExperienceInCurrentDomain  LeaveOrNot  \n",
            "4643                          5           0  \n",
            "4644                          1           1  \n",
            "4645                          2           0  \n",
            "4646                          3           0  \n",
            "4647                          2           0  \n",
            "4648                          4           0  \n",
            "4649                          2           1  \n",
            "4650                          5           1  \n",
            "4651                          2           0  \n",
            "4652                          4           0  \n"
          ]
        }
      ]
    },
    {
      "cell_type": "code",
      "source": [
        "print(\"Printing Data frame information\")\n",
        "print(df.info())"
      ],
      "metadata": {
        "colab": {
          "base_uri": "https://localhost:8080/"
        },
        "id": "-BeujQKs-1w7",
        "outputId": "dc7ea395-c255-4d17-d730-7cd0227716a2"
      },
      "execution_count": 10,
      "outputs": [
        {
          "output_type": "stream",
          "name": "stdout",
          "text": [
            "Printing Data frame information\n",
            "<class 'pandas.core.frame.DataFrame'>\n",
            "RangeIndex: 4653 entries, 0 to 4652\n",
            "Data columns (total 9 columns):\n",
            " #   Column                     Non-Null Count  Dtype \n",
            "---  ------                     --------------  ----- \n",
            " 0   Education                  4653 non-null   object\n",
            " 1   JoiningYear                4653 non-null   int64 \n",
            " 2   City                       4653 non-null   object\n",
            " 3   PaymentTier                4653 non-null   int64 \n",
            " 4   Age                        4653 non-null   int64 \n",
            " 5   Gender                     4653 non-null   object\n",
            " 6   EverBenched                4653 non-null   object\n",
            " 7   ExperienceInCurrentDomain  4653 non-null   int64 \n",
            " 8   LeaveOrNot                 4653 non-null   int64 \n",
            "dtypes: int64(5), object(4)\n",
            "memory usage: 327.3+ KB\n",
            "None\n"
          ]
        }
      ]
    },
    {
      "cell_type": "code",
      "source": [
        "# Printing descriptive statistics of all columns present in dataframe with numerical values\n",
        "print(df.describe())"
      ],
      "metadata": {
        "colab": {
          "base_uri": "https://localhost:8080/"
        },
        "id": "BTiDKKC9_BdD",
        "outputId": "9b759966-f6b6-42b8-d06d-6c524735f12e"
      },
      "execution_count": 12,
      "outputs": [
        {
          "output_type": "stream",
          "name": "stdout",
          "text": [
            "       JoiningYear  PaymentTier          Age  ExperienceInCurrentDomain  \\\n",
            "count  4653.000000  4653.000000  4653.000000                4653.000000   \n",
            "mean   2015.062970     2.698259    29.393295                   2.905652   \n",
            "std       1.863377     0.561435     4.826087                   1.558240   \n",
            "min    2012.000000     1.000000    22.000000                   0.000000   \n",
            "25%    2013.000000     3.000000    26.000000                   2.000000   \n",
            "50%    2015.000000     3.000000    28.000000                   3.000000   \n",
            "75%    2017.000000     3.000000    32.000000                   4.000000   \n",
            "max    2018.000000     3.000000    41.000000                   7.000000   \n",
            "\n",
            "        LeaveOrNot  \n",
            "count  4653.000000  \n",
            "mean      0.343864  \n",
            "std       0.475047  \n",
            "min       0.000000  \n",
            "25%       0.000000  \n",
            "50%       0.000000  \n",
            "75%       1.000000  \n",
            "max       1.000000  \n"
          ]
        }
      ]
    },
    {
      "cell_type": "markdown",
      "source": [
        "**Removing Columns from Pandas Dataframe**"
      ],
      "metadata": {
        "id": "RNS9-r10CsBq"
      }
    },
    {
      "cell_type": "code",
      "source": [
        "# Deleting a column in dataframe\n",
        "\n",
        "# Creating dataframe copy in order to preserve the original dataframe\n",
        "df1 = df.copy()\n",
        "\n",
        "# Deleting single column named 'City'\n",
        "df1.drop('City', axis=1, inplace = True)\n",
        "\n",
        "# Printing modified dataframe\n",
        "print(\"Modified Dataframe after deletion of single column\\n\")\n",
        "print(df1.info())\n",
        "\n",
        "# Deleting multiple columns named 'Age' and 'Gender'\n",
        "df1.drop(['Age', 'Gender'], axis=1, inplace = True)\n",
        "\n",
        "# Printing modified dataframe\n",
        "print(\"\\nModified Dataframe after deletion of multiple columns\\n\")\n",
        "print(df1.info())"
      ],
      "metadata": {
        "colab": {
          "base_uri": "https://localhost:8080/"
        },
        "id": "IjA09IroATEb",
        "outputId": "840cb4e1-b364-4752-a1fc-4c40ef8b864f"
      },
      "execution_count": 16,
      "outputs": [
        {
          "output_type": "stream",
          "name": "stdout",
          "text": [
            "Modified Dataframe after deletion of single column\n",
            "\n",
            "<class 'pandas.core.frame.DataFrame'>\n",
            "RangeIndex: 4653 entries, 0 to 4652\n",
            "Data columns (total 8 columns):\n",
            " #   Column                     Non-Null Count  Dtype \n",
            "---  ------                     --------------  ----- \n",
            " 0   Education                  4653 non-null   object\n",
            " 1   JoiningYear                4653 non-null   int64 \n",
            " 2   PaymentTier                4653 non-null   int64 \n",
            " 3   Age                        4653 non-null   int64 \n",
            " 4   Gender                     4653 non-null   object\n",
            " 5   EverBenched                4653 non-null   object\n",
            " 6   ExperienceInCurrentDomain  4653 non-null   int64 \n",
            " 7   LeaveOrNot                 4653 non-null   int64 \n",
            "dtypes: int64(5), object(3)\n",
            "memory usage: 290.9+ KB\n",
            "None\n",
            "\n",
            "Modified Dataframe after deletion of multiple columns\n",
            "\n",
            "<class 'pandas.core.frame.DataFrame'>\n",
            "RangeIndex: 4653 entries, 0 to 4652\n",
            "Data columns (total 6 columns):\n",
            " #   Column                     Non-Null Count  Dtype \n",
            "---  ------                     --------------  ----- \n",
            " 0   Education                  4653 non-null   object\n",
            " 1   JoiningYear                4653 non-null   int64 \n",
            " 2   PaymentTier                4653 non-null   int64 \n",
            " 3   EverBenched                4653 non-null   object\n",
            " 4   ExperienceInCurrentDomain  4653 non-null   int64 \n",
            " 5   LeaveOrNot                 4653 non-null   int64 \n",
            "dtypes: int64(4), object(2)\n",
            "memory usage: 218.2+ KB\n",
            "None\n"
          ]
        }
      ]
    }
  ]
}